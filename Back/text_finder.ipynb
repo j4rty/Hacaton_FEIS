{
 "cells": [
  {
   "cell_type": "code",
   "execution_count": null,
   "id": "d5f803a1",
   "metadata": {},
   "outputs": [
    {
     "name": "stderr",
     "output_type": "stream",
     "text": [
      "WARNING:absl:Compiled the loaded model, but the compiled metrics have yet to be built. `model.compile_metrics` will be empty until you train or evaluate the model.\n"
     ]
    },
    {
     "name": "stdout",
     "output_type": "stream",
     "text": [
      "Распознанный текст: \n"
     ]
    }
   ],
   "source": [
    "from PIL import Image, ImageOps, ImageFilter\n",
    "import numpy as np\n",
    "from tensorflow.keras.models import load_model\n",
    "\n",
    "model = load_model(\"emnist_model.h5\")\n",
    "\n",
    "def label_to_char(label):\n",
    "    return chr(label + 65)\n",
    "\n",
    "def preprocess_image(image_path):\n",
    "    img = Image.open(image_path).convert(\"L\")\n",
    "\n",
    "    if np.mean(img) > 127:\n",
    "        img = ImageOps.invert(img)\n",
    "\n",
    "    img = img.point(lambda p: p > 128 and 255)\n",
    "\n",
    "    return img\n",
    "\n",
    "def segment_characters(pil_img):\n",
    "    img_array = np.array(pil_img)\n",
    "\n",
    "    from scipy.ndimage import label, find_objects\n",
    "\n",
    "    binary = (img_array > 0).astype(np.uint8)\n",
    "    labeled_array, num_features = label(binary)\n",
    "    slices = find_objects(labeled_array)\n",
    "\n",
    "    boxes = []\n",
    "    for sl in slices:\n",
    "        y1, y2 = sl[0].start, sl[0].stop\n",
    "        x1, x2 = sl[1].start, sl[1].stop\n",
    "        boxes.append((x1, y1, x2, y2))\n",
    "\n",
    "    boxes = sorted(boxes, key=lambda b: b[0])\n",
    "    return boxes\n",
    "\n",
    "def predict_custom_array(img_array):\n",
    "    img = Image.fromarray(img_array)\n",
    "\n",
    "    img.thumbnail((20, 20), Image.Resampling.LANCZOS)\n",
    "\n",
    "    canvas = Image.new(\"L\", (28, 28), color=0)\n",
    "\n",
    "    left = (28 - img.width) // 2\n",
    "    top = (28 - img.height) // 2\n",
    "    canvas.paste(img, (left, top))\n",
    "\n",
    "    if np.mean(canvas) > 127:\n",
    "        canvas = ImageOps.invert(canvas)\n",
    "\n",
    "    img_array = np.array(canvas).astype(\"float32\") / 255.0\n",
    "    img_input = np.expand_dims(img_array, axis=0)\n",
    "\n",
    "    prediction = model.predict(img_input)\n",
    "    predicted_class = np.argmax(prediction)\n",
    "    return label_to_char(predicted_class)\n",
    "\n",
    "def recognize_text(image_path):\n",
    "    img = preprocess_image(image_path)\n",
    "    boxes = segment_characters(img)\n",
    "    text = \"\"\n",
    "\n",
    "    for x1, y1, x2, y2 in boxes:\n",
    "        char_img = img.crop((x1, y1, x2, y2))\n",
    "        char_array = np.array(char_img)\n",
    "        symbol = predict_custom_array(char_array)\n",
    "        text += symbol\n",
    "\n",
    "    return text\n",
    "\n",
    "print(\"Распознанный текст:\", recognize_text(\"image.jpg\"))"
   ]
  }
 ],
 "metadata": {
  "kernelspec": {
   "display_name": "Python 3",
   "language": "python",
   "name": "python3"
  },
  "language_info": {
   "codemirror_mode": {
    "name": "ipython",
    "version": 3
   },
   "file_extension": ".py",
   "mimetype": "text/x-python",
   "name": "python",
   "nbconvert_exporter": "python",
   "pygments_lexer": "ipython3",
   "version": "3.13.3"
  }
 },
 "nbformat": 4,
 "nbformat_minor": 5
}
